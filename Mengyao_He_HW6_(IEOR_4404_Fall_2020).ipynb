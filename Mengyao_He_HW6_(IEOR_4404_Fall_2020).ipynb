{
  "nbformat": 4,
  "nbformat_minor": 0,
  "metadata": {
    "colab": {
      "name": "Mengyao He - HW6 (IEOR 4404 Fall 2020).ipynb",
      "provenance": [],
      "collapsed_sections": [],
      "include_colab_link": true
    },
    "kernelspec": {
      "name": "python3",
      "display_name": "Python 3"
    }
  },
  "cells": [
    {
      "cell_type": "markdown",
      "metadata": {
        "id": "view-in-github",
        "colab_type": "text"
      },
      "source": [
        "<a href=\"https://colab.research.google.com/github/mengyaoo/Stata_Code/blob/master/Mengyao_He_HW6_(IEOR_4404_Fall_2020).ipynb\" target=\"_parent\"><img src=\"https://colab.research.google.com/assets/colab-badge.svg\" alt=\"Open In Colab\"/></a>"
      ]
    },
    {
      "cell_type": "markdown",
      "metadata": {
        "id": "4s5izpSul0F9"
      },
      "source": [
        "# **IEOR 4404  Simulation (Fall 2020)**\n",
        "\n",
        "**Homework 6  [Total points: 80 Points]**\n",
        "\n",
        "\n",
        "**Due 11:59 PM, Dec 13**\n",
        "\n",
        "Homework 6 consists of application-oriented exercises focusing on:\n",
        "* `simpy` simulation of systems\n",
        "* Variance reduction\n",
        "\n",
        "The steps to finish the homework:\n",
        "\n",
        "*   Step 1: Answer your homework on Google Colab.\n",
        "*   Step 2: Submit the copy on Google Assignment\n",
        "\n",
        "Before you submit your assignment, make sure to re-run your code from the beginning. (You can do so by first clicking Runtime/Reset All Runtimes and then clicking Runtime/Run all)\n",
        "\n"
      ]
    },
    {
      "cell_type": "code",
      "metadata": {
        "id": "f3BPfGhTQSbE"
      },
      "source": [
        "#Your Name: Mengyao He\n",
        "#Your UNI: mh4048"
      ],
      "execution_count": 1,
      "outputs": []
    },
    {
      "cell_type": "code",
      "metadata": {
        "id": "x4lR3IqNGLmD",
        "colab": {
          "base_uri": "https://localhost:8080/"
        },
        "outputId": "22ebdd50-f493-4587-d8d0-4a8d58da7a55"
      },
      "source": [
        "#This imports all the packages you need for the homework\n",
        "#Please run this first\n",
        "import numpy as np\n",
        "import pandas as pd\n",
        "\n",
        "import scipy.special as spsp\n",
        "import scipy.stats as spst\n",
        "\n",
        "import matplotlib.pyplot as plt\n",
        "\n",
        "%matplotlib inline\n",
        "\n",
        "import sympy\n",
        "!pip install simpy\n",
        "import simpy\n",
        "import copy\n",
        "import collections\n",
        " "
      ],
      "execution_count": 2,
      "outputs": [
        {
          "output_type": "stream",
          "text": [
            "Requirement already satisfied: simpy in /usr/local/lib/python3.6/dist-packages (4.0.1)\n"
          ],
          "name": "stdout"
        }
      ]
    },
    {
      "cell_type": "markdown",
      "metadata": {
        "id": "eBh7m_ZANQq5"
      },
      "source": [
        "#Exercise 1 [30 Points]\n",
        "\n",
        "##Setting\n",
        "\n",
        "\n",
        "We are interested in simulating an application system using `simpy`. In this system, the unit of time is day, which may be non-integers.\n",
        "\n",
        "An applicant may submit an application between $t=0$ and $t=100$. The submission time follows a homogeneous Poisson process with $\\lambda=10$. Applications are then reviewed in the order that they are received. Each application needs to be reviewed by 2 people, potentially simultaneously.\n",
        "\n",
        "At $t=90.375$ (9 am), a team of 10 admission officers will start the reviewing process. The time needed for an officer to review an application follows a uniform distribution between 0.05 and 0.1 days. After working for at least 0.375 days (9 hours), the officer will finish reviewing the current application  and then go home. Each officer resumes their work at 9 am the next day ($\\lfloor t \\rfloor +1.375$, where $t$ is the time that they went home).\n",
        "\n",
        "The simulation stops when the officers finish reviewing all the applications submitted before $t=100$. \n",
        "\n",
        "**<font color=\"red\">In this question, you are NOT allowed to use any built-in sampling function except np.random.rand() </font>**\n"
      ]
    },
    {
      "cell_type": "markdown",
      "metadata": {
        "id": "kuy6xJlGuQjx"
      },
      "source": [
        "##Q1. [25 Points]\n",
        "\n",
        "For this system, we are interested in computing the average time between an application's submission and its review completion.\n",
        "\n",
        "* Use `simpy` to construct the system. Make sure to comment on your code so that it is easy for the graders to understand your logic.\n",
        "* Run the system once. Inside the function print out the following information for the first 50 submissions. For each submission, print out the 4 lines containing the following information:\n",
        "\n",
        ">* `[submission id]  [start/finish] [time]  [reviewer 1 / reviewer 2]`\n",
        "\n",
        ">* For example:`[1] [start] [90.375] [reviwer 1]`. means applicants 1's applications review process has started at t=0.4 by reviewer 1.\n",
        "\n",
        "> * In total, you should print out 200 lines, These 200 lines should follow chronological order (time from smallest to largest). \n",
        "\n",
        "\n",
        "[Hint 1: Since all 10 officers are the identifical. Think carefully about how you can define your resources]\n",
        "\n",
        "[Hint 2: It is useful to start two review processes for each application. One for reviewer 1 and one for reviwer 2. The review of an application will be over when both processes are processed]\n",
        "\n",
        "[Hint 3: There are different ways to implement the system. The sample answer relied on priority resource to define requests with a higher priority to model the time period between going home and coming back to work for each worker]\n",
        "\n",
        "\n"
      ]
    },
    {
      "cell_type": "code",
      "metadata": {
        "id": "uGUsQx3l74sQ"
      },
      "source": [
        "def arrival(env,resources,outputs):\n",
        "  submission_id = 0\n",
        "  arrival_list = []\n",
        "  time = 0\n",
        "  end_time = 100.0\n",
        "  lmbda = 10.0\n",
        "\n",
        "  # accept submission before t=100\n",
        "  while time <= end_time:\n",
        "    inter_arrival = -1/lmbda * np.log(np.random.rand())\n",
        "    time += inter_arrival\n",
        "\n",
        "    # store the submission time for each submit\n",
        "    outputs[\"submission_time\"].append(time)\n",
        "    outputs[\"submission_id\"].append(submission_id)\n",
        "    arrival_list.append(submission_id)\n",
        "      # differentiate the submission by giving them accumulative ID\n",
        "    submission_id += 1\n",
        "\n",
        "  # At  t=90.375, a team of 10 admission officers will start the reviewing process\n",
        "  yield env.timeout(90.375)\n",
        "  while True:\n",
        "    # stop service when no submissions\n",
        "    if len(arrival_list) == 0:\n",
        "      break\n",
        "    # review submission arriving time \n",
        "    submission_id = arrival_list.pop(0)\n",
        "    # make sure there will be two officers to review each submission\n",
        "    env.process(serivce(env,resources,submission_id,outputs,1)) & env.process(serivce(env,resources,submission_id,outputs,2))\n"
      ],
      "execution_count": 3,
      "outputs": []
    },
    {
      "cell_type": "code",
      "metadata": {
        "id": "lJnrO3pW6pPu"
      },
      "source": [
        "def serivce(env,resources,submission_id,outputs,reviwer):\n",
        "  # request review\n",
        "  request_list = [i.request(priority=0) for i in resources]\n",
        "  # select officers who are available\n",
        "  review = yield simpy.AnyOf(env, request_list)\n",
        "\n",
        "  # assign to the first available officer\n",
        "  officer_id = None\n",
        "  not_taken = True\n",
        "  for index, rqt in enumerate(request_list):\n",
        "    if rqt in review and not_taken:\n",
        "      # store the info of first available officer\n",
        "      officer_id = index\n",
        "      not_taken = False\n",
        "    elif rqt in review and not_taken is False:\n",
        "      # release the request from other available officers\n",
        "      resources[index].release(rqt)\n",
        "    else:\n",
        "      # cancel the request if the officer is not availble\n",
        "      rqt.cancel()\n",
        "  \n",
        "  # print out first 50 submissions info\n",
        "  if submission_id < 50:\n",
        "    print('submission id: %.f\\t\\t start time: %.3f\\t\\t reviewer %.f (officer %.f)' % (submission_id, env.now, reviwer, officer_id))\n",
        "  service_time = np.random.rand() * 0.05 + 0.05\n",
        "  yield env.timeout(service_time)\n",
        "  resources[officer_id].release(request_list[officer_id])\n",
        "  if submission_id < 50:\n",
        "    print('submission id: %.f\\t\\t finish time: %.3f\\t\\t reviewer %.f (officer %.f)' % (submission_id, env.now, reviwer, officer_id))\n",
        "\n",
        "  # collecting the completion time for reviews\n",
        "  outputs['review' + str(reviwer) + '_complete_time'].append(env.now)\n",
        "\n",
        "\n",
        "  # working hours is from 9-18, so here is 0.375 to 0.75\n",
        "  if env.now - np.floor(env.now) >= 0.75:\n",
        "    rest_rqt = resources[officer_id].request(priority=-1)\n",
        "    yield rest_rqt\n",
        "    # add 1.375 means officers come back to work next day\n",
        "    yield env.timeout(1.375 + np.floor(env.now) - env.now)\n",
        "    resources[officer_id].release(rest_rqt)\n"
      ],
      "execution_count": 4,
      "outputs": []
    },
    {
      "cell_type": "code",
      "metadata": {
        "id": "rJYu078FcfTp"
      },
      "source": [
        "def system():\n",
        "  outputs={\"submission_time\":[], \"review1_complete_time\":[], \"review2_complete_time\":[],\"submission_id\":[],\"complete_time\":[]}\n",
        "  env=simpy.Environment()\n",
        "  officer1=simpy.PriorityResource(env)\n",
        "  officer2=simpy.PriorityResource(env)\n",
        "  officer3=simpy.PriorityResource(env)\n",
        "  officer4=simpy.PriorityResource(env)\n",
        "  officer5=simpy.PriorityResource(env)\n",
        "  officer6=simpy.PriorityResource(env)\n",
        "  officer7=simpy.PriorityResource(env)\n",
        "  officer8=simpy.PriorityResource(env)\n",
        "  officer9=simpy.PriorityResource(env)\n",
        "  officer10=simpy.PriorityResource(env)\n",
        "  resources = [officer1,officer2,officer3,officer4,officer5,officer6,officer7,officer8,officer9,officer10]\n",
        "  env.process(arrival(env,resources,outputs))\n",
        "  env.run()\n",
        "  return outputs"
      ],
      "execution_count": 5,
      "outputs": []
    },
    {
      "cell_type": "code",
      "metadata": {
        "colab": {
          "base_uri": "https://localhost:8080/"
        },
        "id": "IVHVUPDJ03MH",
        "outputId": "69f16a8d-7c19-4b86-d040-bb80a69c78da"
      },
      "source": [
        "results = system()"
      ],
      "execution_count": 6,
      "outputs": [
        {
          "output_type": "stream",
          "text": [
            "submission id: 0\t\t start time: 90.375\t\t reviewer 1 (officer 0)\n",
            "submission id: 0\t\t start time: 90.375\t\t reviewer 2 (officer 1)\n",
            "submission id: 1\t\t start time: 90.375\t\t reviewer 1 (officer 2)\n",
            "submission id: 1\t\t start time: 90.375\t\t reviewer 2 (officer 3)\n",
            "submission id: 2\t\t start time: 90.375\t\t reviewer 1 (officer 4)\n",
            "submission id: 2\t\t start time: 90.375\t\t reviewer 2 (officer 5)\n",
            "submission id: 3\t\t start time: 90.375\t\t reviewer 1 (officer 6)\n",
            "submission id: 3\t\t start time: 90.375\t\t reviewer 2 (officer 7)\n",
            "submission id: 4\t\t start time: 90.375\t\t reviewer 1 (officer 8)\n",
            "submission id: 4\t\t start time: 90.375\t\t reviewer 2 (officer 9)\n",
            "submission id: 1\t\t finish time: 90.429\t\t reviewer 1 (officer 2)\n",
            "submission id: 5\t\t start time: 90.429\t\t reviewer 1 (officer 2)\n",
            "submission id: 2\t\t finish time: 90.434\t\t reviewer 2 (officer 5)\n",
            "submission id: 5\t\t start time: 90.434\t\t reviewer 2 (officer 5)\n",
            "submission id: 4\t\t finish time: 90.439\t\t reviewer 1 (officer 8)\n",
            "submission id: 6\t\t start time: 90.439\t\t reviewer 1 (officer 8)\n",
            "submission id: 4\t\t finish time: 90.442\t\t reviewer 2 (officer 9)\n",
            "submission id: 6\t\t start time: 90.442\t\t reviewer 2 (officer 9)\n",
            "submission id: 2\t\t finish time: 90.446\t\t reviewer 1 (officer 4)\n",
            "submission id: 7\t\t start time: 90.446\t\t reviewer 1 (officer 4)\n",
            "submission id: 3\t\t finish time: 90.447\t\t reviewer 1 (officer 6)\n",
            "submission id: 7\t\t start time: 90.447\t\t reviewer 2 (officer 6)\n",
            "submission id: 0\t\t finish time: 90.448\t\t reviewer 2 (officer 1)\n",
            "submission id: 8\t\t start time: 90.448\t\t reviewer 1 (officer 1)\n",
            "submission id: 0\t\t finish time: 90.460\t\t reviewer 1 (officer 0)\n",
            "submission id: 8\t\t start time: 90.460\t\t reviewer 2 (officer 0)\n",
            "submission id: 1\t\t finish time: 90.467\t\t reviewer 2 (officer 3)\n",
            "submission id: 9\t\t start time: 90.467\t\t reviewer 1 (officer 3)\n",
            "submission id: 3\t\t finish time: 90.475\t\t reviewer 2 (officer 7)\n",
            "submission id: 9\t\t start time: 90.475\t\t reviewer 2 (officer 7)\n",
            "submission id: 5\t\t finish time: 90.485\t\t reviewer 2 (officer 5)\n",
            "submission id: 10\t\t start time: 90.485\t\t reviewer 1 (officer 5)\n",
            "submission id: 6\t\t finish time: 90.500\t\t reviewer 1 (officer 8)\n",
            "submission id: 10\t\t start time: 90.500\t\t reviewer 2 (officer 8)\n",
            "submission id: 7\t\t finish time: 90.501\t\t reviewer 2 (officer 6)\n",
            "submission id: 11\t\t start time: 90.501\t\t reviewer 1 (officer 6)\n",
            "submission id: 6\t\t finish time: 90.517\t\t reviewer 2 (officer 9)\n",
            "submission id: 11\t\t start time: 90.517\t\t reviewer 2 (officer 9)\n",
            "submission id: 8\t\t finish time: 90.518\t\t reviewer 2 (officer 0)\n",
            "submission id: 12\t\t start time: 90.518\t\t reviewer 1 (officer 0)\n",
            "submission id: 5\t\t finish time: 90.527\t\t reviewer 1 (officer 2)\n",
            "submission id: 12\t\t start time: 90.527\t\t reviewer 2 (officer 2)\n",
            "submission id: 9\t\t finish time: 90.536\t\t reviewer 2 (officer 7)\n",
            "submission id: 13\t\t start time: 90.536\t\t reviewer 1 (officer 7)\n",
            "submission id: 8\t\t finish time: 90.540\t\t reviewer 1 (officer 1)\n",
            "submission id: 13\t\t start time: 90.540\t\t reviewer 2 (officer 1)\n",
            "submission id: 9\t\t finish time: 90.542\t\t reviewer 1 (officer 3)\n",
            "submission id: 14\t\t start time: 90.542\t\t reviewer 1 (officer 3)\n",
            "submission id: 7\t\t finish time: 90.543\t\t reviewer 1 (officer 4)\n",
            "submission id: 14\t\t start time: 90.543\t\t reviewer 2 (officer 4)\n",
            "submission id: 11\t\t finish time: 90.554\t\t reviewer 1 (officer 6)\n",
            "submission id: 15\t\t start time: 90.554\t\t reviewer 1 (officer 6)\n",
            "submission id: 10\t\t finish time: 90.557\t\t reviewer 2 (officer 8)\n",
            "submission id: 15\t\t start time: 90.557\t\t reviewer 2 (officer 8)\n",
            "submission id: 10\t\t finish time: 90.577\t\t reviewer 1 (officer 5)\n",
            "submission id: 16\t\t start time: 90.577\t\t reviewer 1 (officer 5)\n",
            "submission id: 12\t\t finish time: 90.588\t\t reviewer 1 (officer 0)\n",
            "submission id: 16\t\t start time: 90.588\t\t reviewer 2 (officer 0)\n",
            "submission id: 12\t\t finish time: 90.605\t\t reviewer 2 (officer 2)\n",
            "submission id: 17\t\t start time: 90.605\t\t reviewer 1 (officer 2)\n",
            "submission id: 11\t\t finish time: 90.612\t\t reviewer 2 (officer 9)\n",
            "submission id: 17\t\t start time: 90.612\t\t reviewer 2 (officer 9)\n",
            "submission id: 15\t\t finish time: 90.615\t\t reviewer 2 (officer 8)\n",
            "submission id: 18\t\t start time: 90.615\t\t reviewer 1 (officer 8)\n",
            "submission id: 14\t\t finish time: 90.622\t\t reviewer 1 (officer 3)\n",
            "submission id: 18\t\t start time: 90.622\t\t reviewer 2 (officer 3)\n",
            "submission id: 13\t\t finish time: 90.623\t\t reviewer 1 (officer 7)\n",
            "submission id: 19\t\t start time: 90.623\t\t reviewer 1 (officer 7)\n",
            "submission id: 15\t\t finish time: 90.626\t\t reviewer 1 (officer 6)\n",
            "submission id: 19\t\t start time: 90.626\t\t reviewer 2 (officer 6)\n",
            "submission id: 13\t\t finish time: 90.629\t\t reviewer 2 (officer 1)\n",
            "submission id: 20\t\t start time: 90.629\t\t reviewer 1 (officer 1)\n",
            "submission id: 14\t\t finish time: 90.632\t\t reviewer 2 (officer 4)\n",
            "submission id: 20\t\t start time: 90.632\t\t reviewer 2 (officer 4)\n",
            "submission id: 16\t\t finish time: 90.636\t\t reviewer 1 (officer 5)\n",
            "submission id: 21\t\t start time: 90.636\t\t reviewer 1 (officer 5)\n",
            "submission id: 16\t\t finish time: 90.659\t\t reviewer 2 (officer 0)\n",
            "submission id: 21\t\t start time: 90.659\t\t reviewer 2 (officer 0)\n",
            "submission id: 18\t\t finish time: 90.673\t\t reviewer 1 (officer 8)\n",
            "submission id: 22\t\t start time: 90.673\t\t reviewer 1 (officer 8)\n",
            "submission id: 19\t\t finish time: 90.680\t\t reviewer 2 (officer 6)\n",
            "submission id: 22\t\t start time: 90.680\t\t reviewer 2 (officer 6)\n",
            "submission id: 18\t\t finish time: 90.696\t\t reviewer 2 (officer 3)\n",
            "submission id: 23\t\t start time: 90.696\t\t reviewer 1 (officer 3)\n",
            "submission id: 17\t\t finish time: 90.703\t\t reviewer 1 (officer 2)\n",
            "submission id: 23\t\t start time: 90.703\t\t reviewer 2 (officer 2)\n",
            "submission id: 20\t\t finish time: 90.704\t\t reviewer 2 (officer 4)\n",
            "submission id: 24\t\t start time: 90.704\t\t reviewer 1 (officer 4)\n",
            "submission id: 17\t\t finish time: 90.707\t\t reviewer 2 (officer 9)\n",
            "submission id: 24\t\t start time: 90.707\t\t reviewer 2 (officer 9)\n",
            "submission id: 20\t\t finish time: 90.713\t\t reviewer 1 (officer 1)\n",
            "submission id: 25\t\t start time: 90.713\t\t reviewer 1 (officer 1)\n",
            "submission id: 19\t\t finish time: 90.719\t\t reviewer 1 (officer 7)\n",
            "submission id: 25\t\t start time: 90.719\t\t reviewer 2 (officer 7)\n",
            "submission id: 21\t\t finish time: 90.721\t\t reviewer 1 (officer 5)\n",
            "submission id: 26\t\t start time: 90.721\t\t reviewer 1 (officer 5)\n",
            "submission id: 21\t\t finish time: 90.753\t\t reviewer 2 (officer 0)\n",
            "submission id: 23\t\t finish time: 90.758\t\t reviewer 1 (officer 3)\n",
            "submission id: 22\t\t finish time: 90.762\t\t reviewer 1 (officer 8)\n",
            "submission id: 24\t\t finish time: 90.763\t\t reviewer 1 (officer 4)\n",
            "submission id: 25\t\t finish time: 90.770\t\t reviewer 1 (officer 1)\n",
            "submission id: 22\t\t finish time: 90.776\t\t reviewer 2 (officer 6)\n",
            "submission id: 26\t\t finish time: 90.791\t\t reviewer 1 (officer 5)\n",
            "submission id: 24\t\t finish time: 90.792\t\t reviewer 2 (officer 9)\n",
            "submission id: 23\t\t finish time: 90.793\t\t reviewer 2 (officer 2)\n",
            "submission id: 25\t\t finish time: 90.798\t\t reviewer 2 (officer 7)\n",
            "submission id: 26\t\t start time: 91.375\t\t reviewer 2 (officer 0)\n",
            "submission id: 27\t\t start time: 91.375\t\t reviewer 1 (officer 1)\n",
            "submission id: 27\t\t start time: 91.375\t\t reviewer 2 (officer 2)\n",
            "submission id: 28\t\t start time: 91.375\t\t reviewer 1 (officer 3)\n",
            "submission id: 28\t\t start time: 91.375\t\t reviewer 2 (officer 4)\n",
            "submission id: 29\t\t start time: 91.375\t\t reviewer 1 (officer 5)\n",
            "submission id: 29\t\t start time: 91.375\t\t reviewer 2 (officer 6)\n",
            "submission id: 30\t\t start time: 91.375\t\t reviewer 1 (officer 7)\n",
            "submission id: 30\t\t start time: 91.375\t\t reviewer 2 (officer 8)\n",
            "submission id: 31\t\t start time: 91.375\t\t reviewer 1 (officer 9)\n",
            "submission id: 28\t\t finish time: 91.429\t\t reviewer 2 (officer 4)\n",
            "submission id: 31\t\t start time: 91.429\t\t reviewer 2 (officer 4)\n",
            "submission id: 29\t\t finish time: 91.434\t\t reviewer 2 (officer 6)\n",
            "submission id: 32\t\t start time: 91.434\t\t reviewer 1 (officer 6)\n",
            "submission id: 27\t\t finish time: 91.438\t\t reviewer 1 (officer 1)\n",
            "submission id: 32\t\t start time: 91.438\t\t reviewer 2 (officer 1)\n",
            "submission id: 31\t\t finish time: 91.448\t\t reviewer 1 (officer 9)\n",
            "submission id: 33\t\t start time: 91.448\t\t reviewer 1 (officer 9)\n",
            "submission id: 28\t\t finish time: 91.451\t\t reviewer 1 (officer 3)\n",
            "submission id: 33\t\t start time: 91.451\t\t reviewer 2 (officer 3)\n",
            "submission id: 29\t\t finish time: 91.453\t\t reviewer 1 (officer 5)\n",
            "submission id: 34\t\t start time: 91.453\t\t reviewer 1 (officer 5)\n",
            "submission id: 30\t\t finish time: 91.454\t\t reviewer 1 (officer 7)\n",
            "submission id: 34\t\t start time: 91.454\t\t reviewer 2 (officer 7)\n",
            "submission id: 30\t\t finish time: 91.459\t\t reviewer 2 (officer 8)\n",
            "submission id: 35\t\t start time: 91.459\t\t reviewer 1 (officer 8)\n",
            "submission id: 26\t\t finish time: 91.462\t\t reviewer 2 (officer 0)\n",
            "submission id: 35\t\t start time: 91.462\t\t reviewer 2 (officer 0)\n",
            "submission id: 27\t\t finish time: 91.465\t\t reviewer 2 (officer 2)\n",
            "submission id: 36\t\t start time: 91.465\t\t reviewer 1 (officer 2)\n",
            "submission id: 32\t\t finish time: 91.501\t\t reviewer 2 (officer 1)\n",
            "submission id: 36\t\t start time: 91.501\t\t reviewer 2 (officer 1)\n",
            "submission id: 32\t\t finish time: 91.505\t\t reviewer 1 (officer 6)\n",
            "submission id: 37\t\t start time: 91.505\t\t reviewer 1 (officer 6)\n",
            "submission id: 34\t\t finish time: 91.510\t\t reviewer 2 (officer 7)\n",
            "submission id: 37\t\t start time: 91.510\t\t reviewer 2 (officer 7)\n",
            "submission id: 33\t\t finish time: 91.511\t\t reviewer 1 (officer 9)\n",
            "submission id: 38\t\t start time: 91.511\t\t reviewer 1 (officer 9)\n",
            "submission id: 31\t\t finish time: 91.513\t\t reviewer 2 (officer 4)\n",
            "submission id: 38\t\t start time: 91.513\t\t reviewer 2 (officer 4)\n",
            "submission id: 35\t\t finish time: 91.516\t\t reviewer 1 (officer 8)\n",
            "submission id: 39\t\t start time: 91.516\t\t reviewer 1 (officer 8)\n",
            "submission id: 33\t\t finish time: 91.526\t\t reviewer 2 (officer 3)\n",
            "submission id: 39\t\t start time: 91.526\t\t reviewer 2 (officer 3)\n",
            "submission id: 34\t\t finish time: 91.530\t\t reviewer 1 (officer 5)\n",
            "submission id: 40\t\t start time: 91.530\t\t reviewer 1 (officer 5)\n",
            "submission id: 35\t\t finish time: 91.536\t\t reviewer 2 (officer 0)\n",
            "submission id: 40\t\t start time: 91.536\t\t reviewer 2 (officer 0)\n",
            "submission id: 36\t\t finish time: 91.549\t\t reviewer 1 (officer 2)\n",
            "submission id: 41\t\t start time: 91.549\t\t reviewer 1 (officer 2)\n",
            "submission id: 37\t\t finish time: 91.562\t\t reviewer 1 (officer 6)\n",
            "submission id: 41\t\t start time: 91.562\t\t reviewer 2 (officer 6)\n",
            "submission id: 36\t\t finish time: 91.566\t\t reviewer 2 (officer 1)\n",
            "submission id: 42\t\t start time: 91.566\t\t reviewer 1 (officer 1)\n",
            "submission id: 38\t\t finish time: 91.567\t\t reviewer 1 (officer 9)\n",
            "submission id: 42\t\t start time: 91.567\t\t reviewer 2 (officer 9)\n",
            "submission id: 39\t\t finish time: 91.576\t\t reviewer 2 (officer 3)\n",
            "submission id: 43\t\t start time: 91.576\t\t reviewer 1 (officer 3)\n",
            "submission id: 38\t\t finish time: 91.588\t\t reviewer 2 (officer 4)\n",
            "submission id: 43\t\t start time: 91.588\t\t reviewer 2 (officer 4)\n",
            "submission id: 37\t\t finish time: 91.589\t\t reviewer 2 (officer 7)\n",
            "submission id: 44\t\t start time: 91.589\t\t reviewer 1 (officer 7)\n",
            "submission id: 39\t\t finish time: 91.601\t\t reviewer 1 (officer 8)\n",
            "submission id: 44\t\t start time: 91.601\t\t reviewer 2 (officer 8)\n",
            "submission id: 40\t\t finish time: 91.604\t\t reviewer 2 (officer 0)\n",
            "submission id: 45\t\t start time: 91.604\t\t reviewer 1 (officer 0)\n",
            "submission id: 40\t\t finish time: 91.623\t\t reviewer 1 (officer 5)\n",
            "submission id: 45\t\t start time: 91.623\t\t reviewer 2 (officer 5)\n",
            "submission id: 42\t\t finish time: 91.632\t\t reviewer 2 (officer 9)\n",
            "submission id: 46\t\t start time: 91.632\t\t reviewer 1 (officer 9)\n",
            "submission id: 41\t\t finish time: 91.634\t\t reviewer 1 (officer 2)\n",
            "submission id: 46\t\t start time: 91.634\t\t reviewer 2 (officer 2)\n",
            "submission id: 43\t\t finish time: 91.644\t\t reviewer 1 (officer 3)\n",
            "submission id: 47\t\t start time: 91.644\t\t reviewer 1 (officer 3)\n",
            "submission id: 41\t\t finish time: 91.648\t\t reviewer 2 (officer 6)\n",
            "submission id: 47\t\t start time: 91.648\t\t reviewer 2 (officer 6)\n",
            "submission id: 42\t\t finish time: 91.650\t\t reviewer 1 (officer 1)\n",
            "submission id: 48\t\t start time: 91.650\t\t reviewer 1 (officer 1)\n",
            "submission id: 44\t\t finish time: 91.653\t\t reviewer 2 (officer 8)\n",
            "submission id: 48\t\t start time: 91.653\t\t reviewer 2 (officer 8)\n",
            "submission id: 44\t\t finish time: 91.653\t\t reviewer 1 (officer 7)\n",
            "submission id: 49\t\t start time: 91.653\t\t reviewer 1 (officer 7)\n",
            "submission id: 45\t\t finish time: 91.671\t\t reviewer 1 (officer 0)\n",
            "submission id: 49\t\t start time: 91.671\t\t reviewer 2 (officer 0)\n",
            "submission id: 43\t\t finish time: 91.672\t\t reviewer 2 (officer 4)\n",
            "submission id: 45\t\t finish time: 91.706\t\t reviewer 2 (officer 5)\n",
            "submission id: 47\t\t finish time: 91.709\t\t reviewer 2 (officer 6)\n",
            "submission id: 49\t\t finish time: 91.709\t\t reviewer 1 (officer 7)\n",
            "submission id: 47\t\t finish time: 91.721\t\t reviewer 1 (officer 3)\n",
            "submission id: 46\t\t finish time: 91.723\t\t reviewer 1 (officer 9)\n",
            "submission id: 48\t\t finish time: 91.729\t\t reviewer 2 (officer 8)\n",
            "submission id: 46\t\t finish time: 91.731\t\t reviewer 2 (officer 2)\n",
            "submission id: 48\t\t finish time: 91.735\t\t reviewer 1 (officer 1)\n",
            "submission id: 49\t\t finish time: 91.741\t\t reviewer 2 (officer 0)\n"
          ],
          "name": "stdout"
        }
      ]
    },
    {
      "cell_type": "code",
      "metadata": {
        "colab": {
          "base_uri": "https://localhost:8080/"
        },
        "id": "ZTAJfCU9SKur",
        "outputId": "ccc8bab2-d35f-4b40-d0e4-1a8336e5df16"
      },
      "source": [
        "for i in results[\"submission_id\"]:\n",
        "  results[\"complete_time\"].append(max(results[\"review1_complete_time\"][i],results[\"review2_complete_time\"][i]))\n",
        "  results[\"complete_time\"][i]=results[\"complete_time\"][i]-results[\"submission_time\"][i]\n",
        "np.mean(results[\"complete_time\"])\n"
      ],
      "execution_count": 7,
      "outputs": [
        {
          "output_type": "execute_result",
          "data": {
            "text/plain": [
              "57.362036194880965"
            ]
          },
          "metadata": {
            "tags": []
          },
          "execution_count": 7
        }
      ]
    },
    {
      "cell_type": "code",
      "metadata": {
        "colab": {
          "base_uri": "https://localhost:8080/",
          "height": 419
        },
        "id": "A0epIRqbPATz",
        "outputId": "a728eada-f5d3-4b5b-985c-c83a4e2d9ed2"
      },
      "source": [
        "pd.DataFrame(results)"
      ],
      "execution_count": 8,
      "outputs": [
        {
          "output_type": "execute_result",
          "data": {
            "text/html": [
              "<div>\n",
              "<style scoped>\n",
              "    .dataframe tbody tr th:only-of-type {\n",
              "        vertical-align: middle;\n",
              "    }\n",
              "\n",
              "    .dataframe tbody tr th {\n",
              "        vertical-align: top;\n",
              "    }\n",
              "\n",
              "    .dataframe thead th {\n",
              "        text-align: right;\n",
              "    }\n",
              "</style>\n",
              "<table border=\"1\" class=\"dataframe\">\n",
              "  <thead>\n",
              "    <tr style=\"text-align: right;\">\n",
              "      <th></th>\n",
              "      <th>submission_time</th>\n",
              "      <th>review1_complete_time</th>\n",
              "      <th>review2_complete_time</th>\n",
              "      <th>submission_id</th>\n",
              "      <th>complete_time</th>\n",
              "    </tr>\n",
              "  </thead>\n",
              "  <tbody>\n",
              "    <tr>\n",
              "      <th>0</th>\n",
              "      <td>0.058992</td>\n",
              "      <td>90.429316</td>\n",
              "      <td>90.433932</td>\n",
              "      <td>0</td>\n",
              "      <td>90.374939</td>\n",
              "    </tr>\n",
              "    <tr>\n",
              "      <th>1</th>\n",
              "      <td>0.204911</td>\n",
              "      <td>90.438928</td>\n",
              "      <td>90.442234</td>\n",
              "      <td>1</td>\n",
              "      <td>90.237323</td>\n",
              "    </tr>\n",
              "    <tr>\n",
              "      <th>2</th>\n",
              "      <td>0.713752</td>\n",
              "      <td>90.445919</td>\n",
              "      <td>90.447801</td>\n",
              "      <td>2</td>\n",
              "      <td>89.734049</td>\n",
              "    </tr>\n",
              "    <tr>\n",
              "      <th>3</th>\n",
              "      <td>0.721304</td>\n",
              "      <td>90.447402</td>\n",
              "      <td>90.467354</td>\n",
              "      <td>3</td>\n",
              "      <td>89.746049</td>\n",
              "    </tr>\n",
              "    <tr>\n",
              "      <th>4</th>\n",
              "      <td>0.738601</td>\n",
              "      <td>90.460063</td>\n",
              "      <td>90.474939</td>\n",
              "      <td>4</td>\n",
              "      <td>89.736339</td>\n",
              "    </tr>\n",
              "    <tr>\n",
              "      <th>...</th>\n",
              "      <td>...</td>\n",
              "      <td>...</td>\n",
              "      <td>...</td>\n",
              "      <td>...</td>\n",
              "      <td>...</td>\n",
              "    </tr>\n",
              "    <tr>\n",
              "      <th>1018</th>\n",
              "      <td>99.880153</td>\n",
              "      <td>127.515561</td>\n",
              "      <td>127.517937</td>\n",
              "      <td>1018</td>\n",
              "      <td>27.637784</td>\n",
              "    </tr>\n",
              "    <tr>\n",
              "      <th>1019</th>\n",
              "      <td>99.898875</td>\n",
              "      <td>127.520583</td>\n",
              "      <td>127.527871</td>\n",
              "      <td>1019</td>\n",
              "      <td>27.628996</td>\n",
              "    </tr>\n",
              "    <tr>\n",
              "      <th>1020</th>\n",
              "      <td>99.945328</td>\n",
              "      <td>127.527000</td>\n",
              "      <td>127.528907</td>\n",
              "      <td>1020</td>\n",
              "      <td>27.583579</td>\n",
              "    </tr>\n",
              "    <tr>\n",
              "      <th>1021</th>\n",
              "      <td>99.982457</td>\n",
              "      <td>127.533861</td>\n",
              "      <td>127.532792</td>\n",
              "      <td>1021</td>\n",
              "      <td>27.551404</td>\n",
              "    </tr>\n",
              "    <tr>\n",
              "      <th>1022</th>\n",
              "      <td>100.017571</td>\n",
              "      <td>127.592856</td>\n",
              "      <td>127.594846</td>\n",
              "      <td>1022</td>\n",
              "      <td>27.577275</td>\n",
              "    </tr>\n",
              "  </tbody>\n",
              "</table>\n",
              "<p>1023 rows × 5 columns</p>\n",
              "</div>"
            ],
            "text/plain": [
              "      submission_time  review1_complete_time  ...  submission_id  complete_time\n",
              "0            0.058992              90.429316  ...              0      90.374939\n",
              "1            0.204911              90.438928  ...              1      90.237323\n",
              "2            0.713752              90.445919  ...              2      89.734049\n",
              "3            0.721304              90.447402  ...              3      89.746049\n",
              "4            0.738601              90.460063  ...              4      89.736339\n",
              "...               ...                    ...  ...            ...            ...\n",
              "1018        99.880153             127.515561  ...           1018      27.637784\n",
              "1019        99.898875             127.520583  ...           1019      27.628996\n",
              "1020        99.945328             127.527000  ...           1020      27.583579\n",
              "1021        99.982457             127.533861  ...           1021      27.551404\n",
              "1022       100.017571             127.592856  ...           1022      27.577275\n",
              "\n",
              "[1023 rows x 5 columns]"
            ]
          },
          "metadata": {
            "tags": []
          },
          "execution_count": 8
        }
      ]
    },
    {
      "cell_type": "markdown",
      "metadata": {
        "id": "OWnL8nC1FvFi"
      },
      "source": [
        "##Q2. [5 Points]\n",
        "\n",
        "* Comment out the print functions. Simulate the system 3 times and print out the system output each time. Again, the system output should be the average time between an application's submission and its review completion.\n"
      ]
    },
    {
      "cell_type": "code",
      "metadata": {
        "id": "RLWYgGAXFuc_"
      },
      "source": [
        "def serivce(env,resources,submission_id,outputs,reviwer):\n",
        "  # request review without print function\n",
        "  request_list = [i.request(priority=0) for i in resources]\n",
        "  # select officers who are available\n",
        "  review = yield simpy.AnyOf(env, request_list)\n",
        "\n",
        "  # assign to the first available officer\n",
        "  officer_id = None\n",
        "  not_taken = True\n",
        "  for index, rqt in enumerate(request_list):\n",
        "    if rqt in review and not_taken:\n",
        "      # store the info of first available officer\n",
        "      officer_id = index\n",
        "      not_taken = False\n",
        "    elif rqt in review and not_taken is False:\n",
        "      # release the request from other available officers\n",
        "      resources[index].release(rqt)\n",
        "    else:\n",
        "      # cancel the request if the officer is not availble\n",
        "      rqt.cancel()\n",
        "  \n",
        "  service_time = np.random.rand() * 0.05 + 0.05\n",
        "  yield env.timeout(service_time)\n",
        "  resources[officer_id].release(request_list[officer_id])\n",
        "\n",
        "  # collecting the completion time for reviews\n",
        "  outputs['review' + str(reviwer) + '_complete_time'].append(env.now)\n",
        "\n",
        "\n",
        "  # working hours is from 9-18, so here is 0.375 to 0.75\n",
        "  if env.now - np.floor(env.now) >= 0.75:\n",
        "    rest_rqt = resources[officer_id].request(priority=-1)\n",
        "    yield rest_rqt\n",
        "    # add 1.375 means we are letting them come back to work next day\n",
        "    yield env.timeout(1.375 + np.floor(env.now) - env.now)\n",
        "    resources[officer_id].release(rest_rqt)\n"
      ],
      "execution_count": 9,
      "outputs": []
    },
    {
      "cell_type": "code",
      "metadata": {
        "colab": {
          "base_uri": "https://localhost:8080/"
        },
        "id": "l-Hl8eXPVDYP",
        "outputId": "a0366e23-09da-498b-b173-3146ec851d93"
      },
      "source": [
        "average_complete_time = []\n",
        "for n in range(3):\n",
        "  results = system()\n",
        "  for i in results[\"submission_id\"]:\n",
        "    results[\"complete_time\"].append(max(results[\"review1_complete_time\"][i],results[\"review2_complete_time\"][i]))\n",
        "    results[\"complete_time\"][i]=results[\"complete_time\"][i]-results[\"submission_time\"][i]\n",
        "  average_complete_time.append(np.mean(results[\"complete_time\"]))\n",
        "average_complete_time"
      ],
      "execution_count": 10,
      "outputs": [
        {
          "output_type": "execute_result",
          "data": {
            "text/plain": [
              "[57.538448849728276, 57.33705460330128, 56.70217836123184]"
            ]
          },
          "metadata": {
            "tags": []
          },
          "execution_count": 10
        }
      ]
    },
    {
      "cell_type": "markdown",
      "metadata": {
        "id": "XvtUH--rlbrp"
      },
      "source": [
        "# Exercise 2 [50 Points]\n",
        "\n",
        "##Setting\n",
        "A company has 10 machines. At the beginning, all 10 machines all working properly. For each machine, after $\\Delta t$ hours of operating, it will break down. This inter-breakdown time $\\Delta t$ follows $ Exp(\\lambda=0.1)$.\n",
        "\n",
        "When a machine breaks down, this machine will immediately be taken to the maintenance room. The maintenance room can only fix one machine at a time. The machines will be fixed following first come first serve. The time it takes to fix the machine follows $Exp(\\lambda=1)$.\n",
        "\n",
        "After the machine is fixed, the machine will be sent back to the operation room immediately to perform tasks.  After $\\Delta t$ hours of operating, the machine will break down again. Again, $\\Delta t \\sim Exp(\\lambda=0.1)$.\n",
        "\n",
        "**<font color=\"red\">In this question, you are NOT allowed to use any built-in sampling function except np.random.rand() </font>**\n"
      ]
    },
    {
      "cell_type": "markdown",
      "metadata": {
        "id": "nWfcuRormm86"
      },
      "source": [
        "##Q1. [20 points]\n",
        "\n",
        "* Simulate the system using `simpy`. The simulation should stop when the number of operating machines goes below 7. For the system output, return the length of time from $t=0$ to the end of simulation. Make sure to comment on your code so that it is easy for the graders to understand your logic.\n",
        "* Run the system 1000 times. Plot the distribution of the system output. \n",
        "* Report the lower bound, upper bound, and the length of the 95% confidence interval for the expected value of the system output.\n"
      ]
    },
    {
      "cell_type": "code",
      "metadata": {
        "id": "UIRaui_Ko25R"
      },
      "source": [
        "def arrival(env, resource, id):\n",
        "  break_lmbda = 0.1\n",
        "\n",
        "  while True:\n",
        "    # the breakage arrival for each machine\n",
        "    inter_arrival = -1/break_lmbda * np.log(np.random.rand())\n",
        "    yield env.timeout(inter_arrival)\n",
        "\n",
        "    print('the machine %.f is broken at t=%.2f' % (id, env.now))\n",
        "    \n",
        "    # repair broken machine\n",
        "    yield env.process(service(env, resource, id))\n",
        "  \n",
        "def service(env, resource, id):\n",
        "  service_lmbda = 1\n",
        "  # fixing time for repairing a broken machine\n",
        "  inter_arrival = -1/service_lmbda*np.log(np.random.rand())\n",
        "\n",
        "  # create repairing request\n",
        "  rqt = resource.request()\n",
        "  # check the number of operating machines goes below 7\n",
        "  print('the number of broken machine is %.f \\t\\t ' % (len(resource.users) + len(resource.queue)))\n",
        "  if len(resource.users) + len(resource.queue) > 3:\n",
        "    raise simpy.Interrupt(\"the number of operating machines goes below 7!\")\n",
        "\n",
        "  # repairing the breakage\n",
        "  yield rqt\n",
        "  yield env.timeout(inter_arrival)\n",
        "  # release the repairment request\n",
        "  resource.release(rqt)\n",
        "  print('the machine %.f is repaired at \\t\\t t=%.2f' % (id, env.now))\n",
        "\n",
        "\n"
      ],
      "execution_count": 11,
      "outputs": []
    },
    {
      "cell_type": "code",
      "metadata": {
        "id": "ecbnz4baW6jK"
      },
      "source": [
        "def system():\n",
        "  env = simpy.Environment()\n",
        "  # the maintenance room has only one capacity\n",
        "  resource = simpy.Resource(env, capacity=1)\n",
        "  # breakage process for 10 machines\n",
        "  env.process(arrival(env, resource, id=1))\n",
        "  env.process(arrival(env, resource, id=2))\n",
        "  env.process(arrival(env, resource, id=3))\n",
        "  env.process(arrival(env, resource, id=4))\n",
        "  env.process(arrival(env, resource, id=5))\n",
        "  env.process(arrival(env, resource, id=6))\n",
        "  env.process(arrival(env, resource, id=7))\n",
        "  env.process(arrival(env, resource, id=8))\n",
        "  env.process(arrival(env, resource, id=9))\n",
        "  env.process(arrival(env, resource, id=10))\n",
        "  try:\n",
        "    env.run()\n",
        "  except:\n",
        "    return env.now"
      ],
      "execution_count": 12,
      "outputs": []
    },
    {
      "cell_type": "code",
      "metadata": {
        "colab": {
          "base_uri": "https://localhost:8080/"
        },
        "id": "A5oFMSr_Z-jd",
        "outputId": "00ae85a4-9b93-4d9f-a404-78f2083a7a30"
      },
      "source": [
        "system()"
      ],
      "execution_count": 13,
      "outputs": [
        {
          "output_type": "stream",
          "text": [
            "the machine 8 is broken at t=3.67\n",
            "the number of broken machine is 1 \t\t \n",
            "the machine 8 is repaired at \t\t t=4.69\n",
            "the machine 6 is broken at t=5.31\n",
            "the number of broken machine is 1 \t\t \n",
            "the machine 6 is repaired at \t\t t=6.80\n",
            "the machine 2 is broken at t=7.21\n",
            "the number of broken machine is 1 \t\t \n",
            "the machine 2 is repaired at \t\t t=8.05\n",
            "the machine 3 is broken at t=8.13\n",
            "the number of broken machine is 1 \t\t \n",
            "the machine 1 is broken at t=8.47\n",
            "the number of broken machine is 2 \t\t \n",
            "the machine 3 is repaired at \t\t t=8.94\n",
            "the machine 1 is repaired at \t\t t=10.48\n",
            "the machine 7 is broken at t=10.69\n",
            "the number of broken machine is 1 \t\t \n",
            "the machine 10 is broken at t=10.69\n",
            "the number of broken machine is 2 \t\t \n",
            "the machine 5 is broken at t=12.15\n",
            "the number of broken machine is 3 \t\t \n",
            "the machine 7 is repaired at \t\t t=14.04\n",
            "the machine 10 is repaired at \t\t t=14.50\n",
            "the machine 5 is repaired at \t\t t=14.52\n",
            "the machine 6 is broken at t=15.45\n",
            "the number of broken machine is 1 \t\t \n",
            "the machine 6 is repaired at \t\t t=17.85\n",
            "the machine 2 is broken at t=18.65\n",
            "the number of broken machine is 1 \t\t \n",
            "the machine 2 is repaired at \t\t t=19.68\n",
            "the machine 1 is broken at t=22.98\n",
            "the number of broken machine is 1 \t\t \n",
            "the machine 2 is broken at t=24.00\n",
            "the number of broken machine is 2 \t\t \n",
            "the machine 10 is broken at t=24.03\n",
            "the number of broken machine is 3 \t\t \n",
            "the machine 1 is repaired at \t\t t=25.41\n",
            "the machine 2 is repaired at \t\t t=25.60\n",
            "the machine 5 is broken at t=25.66\n",
            "the number of broken machine is 2 \t\t \n",
            "the machine 6 is broken at t=26.10\n",
            "the number of broken machine is 3 \t\t \n",
            "the machine 10 is repaired at \t\t t=26.37\n",
            "the machine 2 is broken at t=26.38\n",
            "the number of broken machine is 3 \t\t \n",
            "the machine 5 is repaired at \t\t t=26.62\n",
            "the machine 8 is broken at t=27.05\n",
            "the number of broken machine is 3 \t\t \n",
            "the machine 4 is broken at t=27.80\n",
            "the number of broken machine is 4 \t\t \n"
          ],
          "name": "stdout"
        },
        {
          "output_type": "execute_result",
          "data": {
            "text/plain": [
              "27.796391362984675"
            ]
          },
          "metadata": {
            "tags": []
          },
          "execution_count": 13
        }
      ]
    },
    {
      "cell_type": "code",
      "metadata": {
        "id": "rFe_SqADbwfb"
      },
      "source": [
        "# function without print function\n",
        "def arrival(env, resource, id):\n",
        "  break_lmbda = 0.1\n",
        "  while True:\n",
        "    # the breakage arrival for each machine\n",
        "    inter_arrival = -1/break_lmbda * np.log(np.random.rand())\n",
        "    yield env.timeout(inter_arrival)\n",
        "\n",
        "    # repair broken machine\n",
        "    yield env.process(service(env, resource, id))\n",
        "  \n",
        "def service(env, resource, id):\n",
        "  service_lmbda = 1\n",
        "  # fixing time for repairing a broken machine\n",
        "  inter_arrival = -1/service_lmbda*np.log(np.random.rand())\n",
        "\n",
        "  # create repairing request\n",
        "  rqt = resource.request()\n",
        "  # check the number of operating machines goes below 7\n",
        "  if len(resource.users) + len(resource.queue) > 3:\n",
        "    raise simpy.Interrupt(\"the number of operating machines goes below 7!\")\n",
        "\n",
        "  # repairing the breakage\n",
        "  yield rqt\n",
        "  yield env.timeout(inter_arrival)\n",
        "  # release the repairment request\n",
        "  resource.release(rqt)\n",
        "\n",
        "\n"
      ],
      "execution_count": 14,
      "outputs": []
    },
    {
      "cell_type": "code",
      "metadata": {
        "colab": {
          "base_uri": "https://localhost:8080/",
          "height": 299
        },
        "id": "oFpOBN-ybGD_",
        "outputId": "f98e070a-0e72-44d5-c319-3593fd51dd3f"
      },
      "source": [
        "N = 1000\n",
        "system_time = np.array([system() for i in range(1000)])\n",
        "plt.hist(system_time, bins=50, density=True)\n",
        "\n",
        "mean = np.mean(system_time)\n",
        "std = np.std(system_time,ddof=1)\n",
        "lower = mean - spst.norm.ppf(0.975) * std/N**0.5\n",
        "upper = mean + spst.norm.ppf(0.975) * std/N**0.5\n",
        "print(\"95% confidence interval\", lower, upper)\n",
        "print(\"length of 95% confidence interval\", upper-lower)"
      ],
      "execution_count": 15,
      "outputs": [
        {
          "output_type": "stream",
          "text": [
            "95% confidence interval 13.537759400822615 15.105597701324609\n",
            "length of 95% confidence interval 1.5678383005019931\n"
          ],
          "name": "stdout"
        },
        {
          "output_type": "display_data",
          "data": {
            "image/png": "[encoded data removed]",
            "text/plain": [
              "<Figure size 432x288 with 1 Axes>"
            ]
          },
          "metadata": {
            "tags": [],
            "needs_background": "light"
          }
        }
      ]
    },
    {
      "cell_type": "markdown",
      "metadata": {
        "id": "RJKa4zhIRjUU"
      },
      "source": [
        "##Q2. [10 Points]\n",
        "\n",
        "Apply antithetic method to the fixing time and the inter-breakdown time. \n",
        "\n",
        "* Report the lower bound, upper bound, and the width of the 95% confidence interval for the expected value of the system output.\n"
      ]
    },
    {
      "cell_type": "code",
      "metadata": {
        "id": "TWr8lkAYRlxl"
      },
      "source": [
        "def arrival(env, resource, id, arrival_RS, service_RS, anti):\n",
        "  break_lmbda = 0.1\n",
        "  while True:\n",
        "    u=arrival_RS.rand()\n",
        "    if anti==1:\n",
        "        u=1-u\n",
        "    inter_arrival=-1/break_lmbda*np.log(u)\n",
        "    yield env.timeout(inter_arrival)\n",
        "\n",
        "    # repair broken machine\n",
        "    yield env.process(service(env, resource, id, service_RS, anti))\n",
        "  \n",
        "def service(env, resource, id, service_RS, anti):\n",
        "  service_lmbda = 1\n",
        "  # fixing time for repairing a broken machine\n",
        "  u=service_RS.rand()\n",
        "  if anti==1:\n",
        "      u=1-u\n",
        "  inter_arrival=-1/service_lmbda*np.log(u)\n",
        "\n",
        "  # create repairing request\n",
        "  rqt = resource.request()\n",
        "  # check the number of operating machines goes below 7\n",
        "  if len(resource.users) + len(resource.queue) > 3:\n",
        "    raise simpy.Interrupt(\"the number of operating machines goes below 7!\")\n",
        "\n",
        "  # repairing the breakage\n",
        "  yield rqt\n",
        "  yield env.timeout(inter_arrival)\n",
        "  # release the repairment request\n",
        "  resource.release(rqt)\n",
        "\n"
      ],
      "execution_count": 16,
      "outputs": []
    },
    {
      "cell_type": "code",
      "metadata": {
        "id": "RVigwVR1n1Pn"
      },
      "source": [
        "def system(arrival_RS, service_RS, anti):\n",
        "  env = simpy.Environment()\n",
        "  # the maintenance room has only one capacity\n",
        "  resource = simpy.Resource(env, capacity=1)\n",
        "  # breakage process for 10 machines\n",
        "  env.process(arrival(env, resource, 1, arrival_RS, service_RS, anti))\n",
        "  env.process(arrival(env, resource, 2, arrival_RS, service_RS, anti))\n",
        "  env.process(arrival(env, resource, 3, arrival_RS, service_RS, anti))\n",
        "  env.process(arrival(env, resource, 4, arrival_RS, service_RS, anti))\n",
        "  env.process(arrival(env, resource, 5, arrival_RS, service_RS, anti))\n",
        "  env.process(arrival(env, resource, 6, arrival_RS, service_RS, anti))\n",
        "  env.process(arrival(env, resource, 7, arrival_RS, service_RS, anti))\n",
        "  env.process(arrival(env, resource, 8, arrival_RS, service_RS, anti))\n",
        "  env.process(arrival(env, resource, 9, arrival_RS, service_RS, anti))\n",
        "  env.process(arrival(env, resource, 10, arrival_RS, service_RS, anti))\n",
        "  try:\n",
        "    env.run()\n",
        "  except simpy.Interrupt:\n",
        "    return env.now\n",
        "\n",
        "def system_avg():\n",
        "    arrival_RS=np.random.RandomState()\n",
        "    arrival_anti=copy.copy(arrival_RS)\n",
        "\n",
        "    service_RS=np.random.RandomState()\n",
        "    service_anti=copy.copy(service_RS)\n",
        "\n",
        "    output1=system(arrival_RS, service_RS, 0)\n",
        "    output2=system(arrival_anti, service_anti,1)\n",
        "    return (output1+output2)/2"
      ],
      "execution_count": 17,
      "outputs": []
    },
    {
      "cell_type": "code",
      "metadata": {
        "colab": {
          "base_uri": "https://localhost:8080/"
        },
        "id": "EODW1YCKwtVE",
        "outputId": "3d9c613a-b374-402b-9bf2-03c31edc943f"
      },
      "source": [
        "system_avg()"
      ],
      "execution_count": 18,
      "outputs": [
        {
          "output_type": "execute_result",
          "data": {
            "text/plain": [
              "12.702802883742875"
            ]
          },
          "metadata": {
            "tags": []
          },
          "execution_count": 18
        }
      ]
    },
    {
      "cell_type": "code",
      "metadata": {
        "colab": {
          "base_uri": "https://localhost:8080/",
          "height": 299
        },
        "id": "xuJHHdQOn1Bn",
        "outputId": "a42a3916-48d5-4e91-9f96-0541364201c3"
      },
      "source": [
        "N = 1000\n",
        "system_time = np.array([system_avg() for i in range(1000)])\n",
        "plt.hist(system_time, bins=50, density=True)\n",
        "\n",
        "mean = np.mean(system_time)\n",
        "std = np.std(system_time,ddof=1)\n",
        "lower = mean - spst.norm.ppf(0.975) * std/N**0.5\n",
        "upper = mean + spst.norm.ppf(0.975) * std/N**0.5\n",
        "print(\"95% confidence interval\", lower, upper)\n",
        "print(\"length of 95% confidence interval\", upper-lower)"
      ],
      "execution_count": 19,
      "outputs": [
        {
          "output_type": "stream",
          "text": [
            "95% confidence interval 13.969909316478617 14.895686482691094\n",
            "length of 95% confidence interval 0.9257771662124767\n"
          ],
          "name": "stdout"
        },
        {
          "output_type": "display_data",
          "data": {
            "image/png": "[encoded data removed]",
            "text/plain": [
              "<Figure size 432x288 with 1 Axes>"
            ]
          },
          "metadata": {
            "tags": [],
            "needs_background": "light"
          }
        }
      ]
    },
    {
      "cell_type": "markdown",
      "metadata": {
        "id": "en-dXCuN_G-0"
      },
      "source": [
        "##Q3. [10 Points]\n",
        "\n",
        "Apply control variate method to the the fixing time of the first breakdown machine.\n",
        "\n",
        "* Report the lower bound, upper bound, and the width of the 95% confidence interval for the expected value of the system output.\n",
        "\n"
      ]
    },
    {
      "cell_type": "code",
      "metadata": {
        "id": "u9tW9DUtGUvD"
      },
      "source": [
        "def arrival(env, resource, repair_time, id):\n",
        "  break_lmbda = 0.1\n",
        "  while True:\n",
        "    # the breakage arrival for each machine\n",
        "    inter_arrival = -1/break_lmbda * np.log(np.random.rand())\n",
        "    yield env.timeout(inter_arrival)\n",
        "\n",
        "    # repair broken machine\n",
        "    yield env.process(service(env, resource, repair_time, id))\n",
        "  \n",
        "def service(env, resource, repair_time, id):\n",
        "  service_lmbda = 1\n",
        "  # fixing time for repairing a broken machine\n",
        "  inter_arrival = -1/service_lmbda*np.log(np.random.rand())\n",
        "\n",
        "  # create repairing request\n",
        "  rqt = resource.request()\n",
        "  # check the number of operating machines goes below 7\n",
        "  if len(resource.users) + len(resource.queue) > 3:\n",
        "    raise simpy.Interrupt(\"the number of operating machines goes below 7!\")\n",
        "\n",
        "  # repairing the breakage\n",
        "  yield rqt\n",
        "  yield env.timeout(inter_arrival)\n",
        "  repair_time.append(env.now)\n",
        "  # release the repairment request\n",
        "  resource.release(rqt)\n",
        "\n",
        "\n"
      ],
      "execution_count": 20,
      "outputs": []
    },
    {
      "cell_type": "code",
      "metadata": {
        "id": "5wQ9c3k3xGv2"
      },
      "source": [
        "def system():\n",
        "  repair_time = []\n",
        "  env = simpy.Environment()\n",
        "  # the maintenance room has only one capacity\n",
        "  resource = simpy.Resource(env, capacity=1)\n",
        "  # breakage process for 10 machines\n",
        "  env.process(arrival(env, resource, repair_time, id=1))\n",
        "  env.process(arrival(env, resource, repair_time, id=2))\n",
        "  env.process(arrival(env, resource, repair_time, id=3))\n",
        "  env.process(arrival(env, resource, repair_time, id=4))\n",
        "  env.process(arrival(env, resource, repair_time, id=5))\n",
        "  env.process(arrival(env, resource, repair_time, id=6))\n",
        "  env.process(arrival(env, resource, repair_time, id=7))\n",
        "  env.process(arrival(env, resource, repair_time, id=8))\n",
        "  env.process(arrival(env, resource, repair_time, id=9))\n",
        "  env.process(arrival(env, resource, repair_time, id=10))\n",
        "  try:\n",
        "    env.run()\n",
        "  except:\n",
        "    if len(repair_time) == 0:\n",
        "      repair_time = [env.now]\n",
        "    return env.now, repair_time[0]"
      ],
      "execution_count": 21,
      "outputs": []
    },
    {
      "cell_type": "code",
      "metadata": {
        "colab": {
          "base_uri": "https://localhost:8080/",
          "height": 316
        },
        "id": "zEoqzrI4xGkH",
        "outputId": "c305ecc1-f026-4580-80ca-396503dc6b05"
      },
      "source": [
        "N=1000\n",
        "result=[system() for i in range(N)]\n",
        "result=np.array(result)\n",
        "x=result[:,0]\n",
        "z=result[:,1]\n",
        "c=-np.cov(x,z,ddof=1)[0,1]/np.var(z,ddof=1)\n",
        "y=x+c*(z-1/11)\n",
        "\n",
        "plt.hist(y, bins=50, density=True)\n",
        "\n",
        "mean=np.mean(y)\n",
        "std=np.std(y,ddof=1)\n",
        "lower=mean-spst.norm.ppf(0.975)*std/N**0.5\n",
        "upper=mean+spst.norm.ppf(0.975)*std/N**0.5\n",
        "print(\"95% confidence interval\", lower,upper)\n",
        "print(\"mean\", mean)\n",
        "print(\"width of confidence interval\",upper-lower)"
      ],
      "execution_count": 22,
      "outputs": [
        {
          "output_type": "stream",
          "text": [
            "95% confidence interval 13.764222242565815 15.42483247392435\n",
            "mean 14.594527358245083\n",
            "width of confidence interval 1.660610231358536\n"
          ],
          "name": "stdout"
        },
        {
          "output_type": "display_data",
          "data": {
            "image/png": "[encoded data removed]",
            "text/plain": [
              "<Figure size 432x288 with 1 Axes>"
            ]
          },
          "metadata": {
            "tags": [],
            "needs_background": "light"
          }
        }
      ]
    },
    {
      "cell_type": "markdown",
      "metadata": {
        "id": "9KhjdIz7ERHV"
      },
      "source": [
        "##Q4.  [10 points]\n",
        "\n",
        "Now, let's continue from Q1. Suppose the maintenance room will be closed for 0.2 hours after every 0.8 hours of opening. During this time, the repairmen will not fix any machine. After the maintenance room reopens, the repairmen will resume fixing the machines. If at the time of break, the repairmen have taken $x'$ period of time to fix a machine and the amount of the time to fix the machine is $x$, the machine will now need $x-x'$ amount of time to get fixed.\n",
        "\n",
        "* Run the system 1000 times. Plot the distribution of the time it takes for the number of operating machines to go below 7.\n",
        "\n",
        "[hint: one solution is to define the maintenance room as a preemptive resource, and treat closing as a request]"
      ]
    },
    {
      "cell_type": "code",
      "metadata": {
        "id": "23_IelvEfEqN"
      },
      "source": [
        "def arrival(env, resource, id,break_list):\n",
        "  break_lmbda = 0.1\n",
        "  while True:\n",
        "    # the breakage arrival for each machine\n",
        "    inter_arrival = -1/break_lmbda * np.log(np.random.rand())\n",
        "    yield env.timeout(inter_arrival)\n",
        "    break_list.append(id)\n",
        "    \n",
        "    yield env.process(service(env, resource, id, break_list))\n",
        "  \n",
        "\n",
        "def close_room_arrival(env, resource):\n",
        "  while True:\n",
        "    # close the maintenance room after every 0.8 hours\n",
        "    yield env.timeout(0.8)\n",
        "    yield env.process(close_room(env, resource))\n",
        "   \n",
        "\n",
        "def close_room(env, resource):\n",
        "  rqt = resource.request(priority=-100, preempt=True)\n",
        "  yield rqt\n",
        "  yield env.timeout(0.2)\n",
        "  resource.release(rqt)\n",
        "\n",
        "def service(env, resource, id, break_list, priority=0, remaining_time=0):\n",
        "  # checking if it is a remaining request\n",
        "  lmbda_service = 1\n",
        "  if remaining_time > 0:\n",
        "    inter_arrival = remaining_time\n",
        "    preempt = True\n",
        "  else:\n",
        "    inter_arrival = -1/lmbda_service*np.log(np.random.rand())\n",
        "    preempt = False\n",
        "  \n",
        "  rqt = resource.request(priority=priority, preempt=preempt)\n",
        "  \n",
        "  if len(break_list) > 3:\n",
        "    raise simpy.Interrupt(\"the number of operating machines goes below 7!\")\n",
        "  yield rqt\n",
        "\n",
        "  try:\n",
        "    # if the repairment is not interrupt by the closure\n",
        "    yield env.timeout(inter_arrival)\n",
        "  except simpy.Interrupt as interrupt:\n",
        "    usage = env.now - interrupt.cause.usage_since\n",
        "    remaining_time = inter_arrival - usage\n",
        "    rqt.cancel()\n",
        "    yield env.process(service(env, resource, id, break_list, priority=-2, remaining_time=remaining_time))\n",
        "  \n",
        "  else:\n",
        "    resource.release(rqt)\n",
        "    break_list.pop(0)\n",
        "  \n",
        "\n",
        "def system(debug=False):\n",
        "  env = simpy.Environment()\n",
        "  break_list = []\n",
        "  resource = simpy.PreemptiveResource(env, capacity=1)\n",
        "  env.process(close_room_arrival(env, resource))\n",
        "  env.process(arrival(env, resource, id=1, break_list=break_list))\n",
        "  env.process(arrival(env, resource, id=2, break_list=break_list))\n",
        "  env.process(arrival(env, resource, id=3, break_list=break_list))\n",
        "  env.process(arrival(env, resource, id=4, break_list=break_list))\n",
        "  env.process(arrival(env, resource, id=5, break_list=break_list))\n",
        "  env.process(arrival(env, resource, id=6, break_list=break_list))\n",
        "  env.process(arrival(env, resource, id=7, break_list=break_list))\n",
        "  env.process(arrival(env, resource, id=8, break_list=break_list))\n",
        "  env.process(arrival(env, resource, id=9, break_list=break_list))\n",
        "  env.process(arrival(env, resource, id=10, break_list=break_list))\n",
        "  try:\n",
        "    env.run()\n",
        "  except:\n",
        "    return env.now"
      ],
      "execution_count": 23,
      "outputs": []
    },
    {
      "cell_type": "code",
      "metadata": {
        "colab": {
          "base_uri": "https://localhost:8080/"
        },
        "id": "CUdj4eYxxHeE",
        "outputId": "9652f428-2b7f-4bd7-a821-ffec9ad44ec0"
      },
      "source": [
        "system()"
      ],
      "execution_count": 24,
      "outputs": [
        {
          "output_type": "execute_result",
          "data": {
            "text/plain": [
              "3.948671495574534"
            ]
          },
          "metadata": {
            "tags": []
          },
          "execution_count": 24
        }
      ]
    },
    {
      "cell_type": "code",
      "metadata": {
        "colab": {
          "base_uri": "https://localhost:8080/",
          "height": 299
        },
        "id": "FDaya6BkxHPC",
        "outputId": "5eed235a-0583-4ba5-9c6a-1cc91c7ba39f"
      },
      "source": [
        "N = 1000\n",
        "system_time = np.array([system() for i in range(1000)])\n",
        "plt.hist(system_time, density=True)\n",
        "\n",
        "mean = np.mean(system_time)\n",
        "std = np.std(system_time,ddof=1)\n",
        "lower = mean - spst.norm.ppf(0.975) * std/N**0.5\n",
        "upper = mean + spst.norm.ppf(0.975) * std/N**0.5\n",
        "print(\"95% confidence interval\", lower, upper)\n",
        "print(\"length of 95% confidence interval\", upper-lower)"
      ],
      "execution_count": 27,
      "outputs": [
        {
          "output_type": "stream",
          "text": [
            "95% confidence interval 10.5461647520781 11.699061807440069\n",
            "length of 95% confidence interval 1.1528970553619686\n"
          ],
          "name": "stdout"
        },
        {
          "output_type": "display_data",
          "data": {
            "image/png": "[encoded data removed]",
            "text/plain": [
              "<Figure size 432x288 with 1 Axes>"
            ]
          },
          "metadata": {
            "tags": [],
            "needs_background": "light"
          }
        }
      ]
    }
  ]
}